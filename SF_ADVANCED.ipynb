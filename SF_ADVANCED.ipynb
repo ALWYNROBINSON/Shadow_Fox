{
 "cells": [
  {
   "cell_type": "code",
   "execution_count": 62,
   "id": "50870870-4312-40a2-b474-73467b829e3d",
   "metadata": {},
   "outputs": [],
   "source": [
    "import pandas as pd"
   ]
  },
  {
   "cell_type": "code",
   "execution_count": 63,
   "id": "6acfd2e8-971f-4d7c-8c94-55769d7af307",
   "metadata": {},
   "outputs": [],
   "source": [
    "WCP = 1\n",
    "WGT = 1\n",
    "WC = 3\n",
    "WDC = -3\n",
    "WST = 3\n",
    "WRO = 3\n",
    "WMRO = -2\n",
    "WDH = 2"
   ]
  },
  {
   "cell_type": "code",
   "execution_count": 64,
   "id": "8cd48890-99cb-48af-b9a8-312252ca13c0",
   "metadata": {},
   "outputs": [],
   "source": [
    "csv_file = \"C:\\\\Users\\\\alwyn\\\\Downloads\\\\mi_vs_csk_csv.csv\"\n",
    "d = pd.read_csv(csv_file, skiprows=12, nrows=7, usecols=range(11), encoding='utf-8-sig',\n",
    "                names=[\"Player Name\", \"Clean Picks (CP)\", \"Good Throws (GT)\", \n",
    "                       \"Catches (C)\", \"Dropped Catches (DC)\", \"Stumpings (S)\", \n",
    "                       \"Run Outs (RO)\", \"Missed Run Outs (MR)\", \"Direct Hits (DH)\", \n",
    "                       \"Runs Saved (RS)\", \"Performance Score (PS)\"])"
   ]
  },
  {
   "cell_type": "code",
   "execution_count": 65,
   "id": "582dd738-c93e-4cb1-918c-08b8615ff4fa",
   "metadata": {},
   "outputs": [],
   "source": [
    "d['Calculated_PS'] = (\n",
    "    (d['Clean Picks (CP)'] * WCP) +\n",
    "    (d['Good Throws (GT)'] * WGT) +\n",
    "    (d['Catches (C)'] * WC) +\n",
    "    (d['Dropped Catches (DC)'] * WDC) +\n",
    "    (d['Stumpings (S)'] * WST) +\n",
    "    (d['Run Outs (RO)'] * WRO) +\n",
    "    (d['Missed Run Outs (MR)'] * WMRO) +\n",
    "    (d['Direct Hits (DH)'] * WDH) +\n",
    "    d['Runs Saved (RS)']\n",
    ")"
   ]
  },
  {
   "cell_type": "code",
   "execution_count": 66,
   "id": "6e200d45-e597-4fd5-96c8-18b586bbd442",
   "metadata": {},
   "outputs": [
    {
     "name": "stdout",
     "output_type": "stream",
     "text": [
      "Player Performance Scores:\n",
      "        Player Name  Calculated_PS\n",
      "0          MS Dhoni              9\n",
      "1   Ravindra Jadeja              9\n",
      "2   Ruturaj Gaikwad              1\n",
      "3  Suryakumar Yadav              8\n",
      "4   Rachin Ravindra             -1\n",
      "5        Will Jacks              8\n",
      "6       Tilak Varma             -3\n"
     ]
    }
   ],
   "source": [
    "print(\"Player Performance Scores:\")\n",
    "print(d[['Player Name', 'Calculated_PS']])"
   ]
  }
 ],
 "metadata": {
  "kernelspec": {
   "display_name": "Python 3 (ipykernel)",
   "language": "python",
   "name": "python3"
  },
  "language_info": {
   "codemirror_mode": {
    "name": "ipython",
    "version": 3
   },
   "file_extension": ".py",
   "mimetype": "text/x-python",
   "name": "python",
   "nbconvert_exporter": "python",
   "pygments_lexer": "ipython3",
   "version": "3.12.10"
  }
 },
 "nbformat": 4,
 "nbformat_minor": 5
}
